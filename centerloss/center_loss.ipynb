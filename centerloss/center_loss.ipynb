{
 "cells": [
  {
   "cell_type": "code",
   "id": "initial_id",
   "metadata": {
    "collapsed": true,
    "ExecuteTime": {
     "end_time": "2024-11-25T07:00:30.672465Z",
     "start_time": "2024-11-25T07:00:21.315Z"
    }
   },
   "source": [
    "import numpy as np\n",
    "import torch\n",
    "import torch.nn as nn\n",
    "import torchmetrics\n",
    "import torchvision\n",
    "import torchvision.transforms as transforms\n",
    "from torch.utils.data import Dataset, DataLoader, random_split\n",
    "from loss import CenterLoss\n",
    "import wandb\n",
    "from tqdm import tqdm, trange\n",
    "import matplotlib.pyplot as plt\n",
    "import random"
   ],
   "outputs": [],
   "execution_count": 1
  },
  {
   "metadata": {},
   "cell_type": "markdown",
   "source": "# GPU setting",
   "id": "7c38f9b2d607cb70"
  },
  {
   "metadata": {
    "ExecuteTime": {
     "end_time": "2024-11-25T07:00:31.094360Z",
     "start_time": "2024-11-25T07:00:30.674862Z"
    }
   },
   "cell_type": "code",
   "source": [
    "device = 'cuda' if torch.cuda.is_available() else 'cpu'\n",
    "torch.manual_seed(1)\n",
    "if device == 'cuda':\n",
    "    torch.cuda.manual_seed_all(1)"
   ],
   "id": "412858d99697a853",
   "outputs": [],
   "execution_count": 2
  },
  {
   "metadata": {},
   "cell_type": "markdown",
   "source": "# Model",
   "id": "c2d9d40cbf80d671"
  },
  {
   "metadata": {
    "ExecuteTime": {
     "end_time": "2024-11-25T07:00:31.268245Z",
     "start_time": "2024-11-25T07:00:31.096410Z"
    }
   },
   "cell_type": "code",
   "source": [
    "class CLModel(nn.Module):\n",
    "    def __init__(self):\n",
    "        super(CLModel, self).__init__()\n",
    "        self.conv1 = nn.Conv2d(1, 32, 5, padding=2, stride=1, bias=False)\n",
    "        self.conv1_1 = nn.Conv2d(32, 32, 5, padding=2, stride=1, bias=False)\n",
    "        self.conv2 = nn.Conv2d(32, 64, 5, padding=2, stride=1, bias=False)\n",
    "        self.conv2_1 = nn.Conv2d(64, 64, 5, padding=2, stride=1, bias=False)\n",
    "        self.conv3 = nn.Conv2d(64, 128, 5, padding=2, stride=1, bias=False)\n",
    "        self.conv3_1 = nn.Conv2d(128, 128, 5, padding=2, stride=1, bias=False)\n",
    "        self.maxpool = nn.MaxPool2d(2, 2)\n",
    "        self.prelu = nn.PReLU()\n",
    "        self.fc1 = nn.Linear(1152, 2, bias=False)\n",
    "        self.fc2 = nn.Linear(2, 10, bias=False)\n",
    "\n",
    "    def forward(self, x):\n",
    "        x = self.conv1(x)\n",
    "        x = self.prelu(x)\n",
    "        x = self.conv1_1(x)\n",
    "        x = self.prelu(x)\n",
    "        x = self.maxpool(x)\n",
    "\n",
    "        x = self.conv2(x)\n",
    "        x = self.prelu(x)\n",
    "        x = self.conv2_1(x)\n",
    "        x = self.prelu(x)\n",
    "        x = self.maxpool(x)\n",
    "\n",
    "        x = self.conv3(x)\n",
    "        x = self.prelu(x)\n",
    "        x = self.conv3_1(x)\n",
    "        x = self.prelu(x)\n",
    "        x = self.maxpool(x)\n",
    "\n",
    "        x = x.view(x.size(0), -1)\n",
    "        x = self.fc1(x)\n",
    "        x = self.prelu(x)\n",
    "        y = self.fc2(x)\n",
    "\n",
    "        return x, y"
   ],
   "id": "6627df1c483e288",
   "outputs": [],
   "execution_count": 3
  },
  {
   "metadata": {},
   "cell_type": "markdown",
   "source": "# data preprocessing",
   "id": "d74e56dd782ac177"
  },
  {
   "metadata": {
    "ExecuteTime": {
     "end_time": "2024-11-25T07:00:31.468581Z",
     "start_time": "2024-11-25T07:00:31.270847Z"
    }
   },
   "cell_type": "code",
   "source": [
    "transform = transforms.ToTensor()\n",
    "\n",
    "train = torchvision.datasets.MNIST(\"../mnist\", train=True, transform=transform, download=True)\n",
    "train, valid = random_split(train, [0.9, 0.1])\n",
    "test = torchvision.datasets.MNIST(\"../mnist\", train=False, transform=transform, download=True)\n",
    "\n",
    "train_loader = DataLoader(train, batch_size=128, shuffle=True, num_workers=8)\n",
    "valid_loader = DataLoader(valid, batch_size=128, shuffle=False, num_workers=8)\n",
    "test_loader = DataLoader(test, batch_size=128, shuffle=False, num_workers=8)"
   ],
   "id": "21b5314928404167",
   "outputs": [],
   "execution_count": 4
  },
  {
   "metadata": {},
   "cell_type": "markdown",
   "source": "# train model",
   "id": "a0044cdc2f8b2954"
  },
  {
   "metadata": {
    "ExecuteTime": {
     "end_time": "2024-11-25T07:00:31.981475Z",
     "start_time": "2024-11-25T07:00:31.470161Z"
    }
   },
   "cell_type": "code",
   "source": [
    "model = CLModel().to(device)\n",
    "lr_l = 1e-3\n",
    "lr_c = 0.5\n",
    "total_epochs = 100\n",
    "batch_size = 128\n",
    "lamda = 0.001"
   ],
   "id": "a0de2961baead1cb",
   "outputs": [],
   "execution_count": 5
  },
  {
   "metadata": {
    "ExecuteTime": {
     "end_time": "2024-11-25T07:00:31.989780Z",
     "start_time": "2024-11-25T07:00:31.982701Z"
    }
   },
   "cell_type": "code",
   "source": [
    "criterion1 = nn.CrossEntropyLoss()\n",
    "criterion2 = CenterLoss().to(device)\n",
    "optimizer1 = torch.optim.SGD(model.parameters(), lr=lr_l, momentum=0.9, weight_decay=5e-4)\n",
    "optimizer2 = torch.optim.SGD(criterion2.parameters(), lr=lr_c)"
   ],
   "id": "9a08c4be49204a1b",
   "outputs": [],
   "execution_count": 6
  },
  {
   "metadata": {},
   "cell_type": "markdown",
   "source": "### train",
   "id": "edffc58ac4e49160"
  },
  {
   "metadata": {},
   "cell_type": "code",
   "source": [
    "for epoch in trange(total_epochs):\n",
    "    avg_train_loss = 0\n",
    "    avg_train_softmax_loss = 0\n",
    "    avg_train_center_loss = 0\n",
    "    avg_valid_loss = 0\n",
    "    avg_valid_softmax_loss = 0\n",
    "    avg_valid_center_loss = 0\n",
    "    \n",
    "    all_features, all_labels = [], []\n",
    "    \n",
    "    # train\n",
    "    model.train()\n",
    "    for x_tr, y_tr in train_loader:\n",
    "        x_tr = x_tr.to(device)\n",
    "        y_tr = y_tr.to(device)\n",
    "        \n",
    "        hypothesis = model(x_tr)\n",
    "        coord, label = hypothesis\n",
    "        optimizer1.zero_grad()\n",
    "        optimizer2.zero_grad()\n",
    "        train_softmax_loss = criterion1(label, y_tr)\n",
    "        train_center_loss = criterion2(coord, y_tr)\n",
    "        train_loss = train_softmax_loss + lamda*train_center_loss\n",
    "        # train_loss = train_softmax_loss\n",
    "        train_loss.backward()\n",
    "        optimizer1.step()\n",
    "        optimizer2.step()\n",
    "        \n",
    "        \n",
    "        avg_train_loss += train_loss.item() / len(train_loader)\n",
    "        avg_train_softmax_loss += train_softmax_loss.item() / len(train_loader)\n",
    "        avg_train_center_loss += train_center_loss.item() / len(train_loader)\n",
    "        \n",
    "        # all_features.append(coord.detach().cpu().numpy())\n",
    "        # all_labels.append(label.detach().cpu().numpy())\n",
    "        all_features.append(coord.data.cpu().numpy())\n",
    "        all_labels.append(label.data.cpu().numpy())\n",
    "        \n",
    "    all_features = np.concatenate(all_features, axis=0)\n",
    "    all_labels = np.concatenate(all_labels, axis=0)\n",
    "    colors = np.array(['C0', 'C1', 'C2', 'C3', 'C4', 'C5', 'C6', 'C7', 'C8', 'C9'])\n",
    "    label_idx = all_labels.argmax(axis=1)\n",
    "    for i in range(10):\n",
    "        plt.scatter(all_features[label_idx == i, 0], all_features[label_idx == i, 1], color=colors[i], s=1)\n",
    "    # plt.scatter(all_features[:, 0], all_features[:, 1], c=colors[label_idx], s=1)\n",
    "    plt.legend(['0', '1', '2', '3', '4', '5', '6', '7', '8', '9'], loc='upper right')\n",
    "    plt.show()\n",
    "    \n",
    "    all_features, all_labels = [], []\n",
    "    \n",
    "    # validation\n",
    "    model.eval()\n",
    "    for x_val, y_val in valid_loader:\n",
    "        x_val = x_val.to(device)\n",
    "        y_val = y_val.to(device)\n",
    "        \n",
    "        hypothesis = model(x_val)\n",
    "        coord, label = hypothesis\n",
    "        valid_softmax_loss = criterion1(label, y_val)\n",
    "        valid_center_loss = criterion2(coord, y_val)\n",
    "        valid_loss = valid_softmax_loss + lamda*valid_center_loss\n",
    "        # valid_loss = valid_softmax_loss\n",
    "        \n",
    "        avg_valid_loss += valid_loss/len(valid_loader)\n",
    "        avg_valid_softmax_loss += valid_softmax_loss.item() / len(valid_loader)\n",
    "        avg_valid_center_loss += valid_center_loss.item() / len(valid_loader)\n",
    "        \n",
    "        all_features.append(coord.data.cpu().numpy())\n",
    "        all_labels.append(label.data.cpu().numpy())\n",
    "    \n",
    "    # plot features\n",
    "    all_features = np.concatenate(all_features, axis=0)\n",
    "    all_labels = np.concatenate(all_labels, axis=0)\n",
    "    colors = np.array(['C0', 'C1', 'C2', 'C3', 'C4', 'C5', 'C6', 'C7', 'C8', 'C9'])\n",
    "    label_idx = all_labels.argmax(axis=1)\n",
    "    for i in range(10):\n",
    "        plt.scatter(all_features[label_idx == i, 0], all_features[label_idx == i, 1], color=colors[i], s=1)\n",
    "    # plt.scatter(all_features[:, 0], all_features[:, 1], c=colors[label_idx], s=1)\n",
    "    plt.legend(['0', '1', '2', '3', '4', '5', '6', '7', '8', '9'], loc='upper right')\n",
    "    plt.show()\n",
    "    \n",
    "    \n",
    "    print(f'Epoch: {epoch}, train_loss: {avg_train_loss}, valid_loss: {avg_valid_loss}')\n",
    "\n",
    "plt.close('all')"
   ],
   "id": "2a253e4a63bc60a7",
   "outputs": [],
   "execution_count": null
  }
 ],
 "metadata": {
  "kernelspec": {
   "display_name": "Python 3",
   "language": "python",
   "name": "python3"
  },
  "language_info": {
   "codemirror_mode": {
    "name": "ipython",
    "version": 2
   },
   "file_extension": ".py",
   "mimetype": "text/x-python",
   "name": "python",
   "nbconvert_exporter": "python",
   "pygments_lexer": "ipython2",
   "version": "2.7.6"
  }
 },
 "nbformat": 4,
 "nbformat_minor": 5
}
